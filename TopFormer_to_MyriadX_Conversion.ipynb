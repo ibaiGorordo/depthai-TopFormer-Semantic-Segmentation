{
  "nbformat": 4,
  "nbformat_minor": 0,
  "metadata": {
    "colab": {
      "name": "TopFormer to MyriadX Conversion.ipynb",
      "provenance": [],
      "collapsed_sections": []
    },
    "kernelspec": {
      "name": "python3",
      "display_name": "Python 3"
    },
    "language_info": {
      "name": "python"
    },
    "accelerator": "GPU"
  },
  "cells": [
    {
      "cell_type": "markdown",
      "source": [
        "#**TopFormer to MyriadX Conversion** \n",
        "\n",
        "<img src=\"https://github.com/ibaiGorordo/ONNX-TopFormer-Semantic-Segmentation/blob/main/doc/img/output.png?raw=true\" width=\"500\">"
      ],
      "metadata": {
        "id": "gBowt-4F8Cdq"
      }
    },
    {
      "cell_type": "markdown",
      "source": [
        "## Set the TopFormer repository"
      ],
      "metadata": {
        "id": "2UZKrUIW8Tw7"
      }
    },
    {
      "cell_type": "markdown",
      "source": [
        "Clone TopFormer repository into the working directory."
      ],
      "metadata": {
        "id": "qzj_kkql8gXv"
      }
    },
    {
      "cell_type": "code",
      "execution_count": 1,
      "metadata": {
        "colab": {
          "base_uri": "https://localhost:8080/"
        },
        "id": "F2suEVB08A_r",
        "outputId": "eb776c47-6cb5-493f-f514-acfe726a2d64"
      },
      "outputs": [
        {
          "output_type": "stream",
          "name": "stdout",
          "text": [
            "/content\n",
            "Cloning into 'TopFormer'...\n",
            "remote: Enumerating objects: 1075, done.\u001b[K\n",
            "remote: Counting objects: 100% (1075/1075), done.\u001b[K\n",
            "remote: Compressing objects: 100% (481/481), done.\u001b[K\n",
            "remote: Total 1075 (delta 625), reused 1019 (delta 588), pack-reused 0\u001b[K\n",
            "Receiving objects: 100% (1075/1075), 1.96 MiB | 21.84 MiB/s, done.\n",
            "Resolving deltas: 100% (625/625), done.\n"
          ]
        }
      ],
      "source": [
        "% cd /content/\n",
        "! git clone -b argmax https://github.com/ibaiGorordo/TopFormer.git"
      ]
    },
    {
      "cell_type": "markdown",
      "source": [
        "Install the required dependencies (it takes several minutes)."
      ],
      "metadata": {
        "id": "8OwDledZ8mZF"
      }
    },
    {
      "cell_type": "code",
      "source": [
        "!pip install -U -r /content/TopFormer/requirements/mminstall.txt  # install dependencies\n",
        "!pip install mmsegmentation"
      ],
      "metadata": {
        "colab": {
          "base_uri": "https://localhost:8080/"
        },
        "id": "6K-Bu1_q8SJP",
        "outputId": "91581901-73aa-4992-ad97-b90ed4e93102"
      },
      "execution_count": 2,
      "outputs": [
        {
          "output_type": "stream",
          "name": "stdout",
          "text": [
            "Collecting mmcv-full<=1.4.0,>=1.3.1\n",
            "  Downloading mmcv-full-1.4.0.tar.gz (403 kB)\n",
            "\u001b[K     |████████████████████████████████| 403 kB 5.1 MB/s \n",
            "\u001b[?25hCollecting addict\n",
            "  Downloading addict-2.4.0-py3-none-any.whl (3.8 kB)\n",
            "Requirement already satisfied: numpy in /usr/local/lib/python3.7/dist-packages (from mmcv-full<=1.4.0,>=1.3.1->-r /content/TopFormer/requirements/mminstall.txt (line 1)) (1.21.5)\n",
            "Requirement already satisfied: packaging in /usr/local/lib/python3.7/dist-packages (from mmcv-full<=1.4.0,>=1.3.1->-r /content/TopFormer/requirements/mminstall.txt (line 1)) (21.3)\n",
            "Requirement already satisfied: Pillow in /usr/local/lib/python3.7/dist-packages (from mmcv-full<=1.4.0,>=1.3.1->-r /content/TopFormer/requirements/mminstall.txt (line 1)) (7.1.2)\n",
            "Requirement already satisfied: pyyaml in /usr/local/lib/python3.7/dist-packages (from mmcv-full<=1.4.0,>=1.3.1->-r /content/TopFormer/requirements/mminstall.txt (line 1)) (3.13)\n",
            "Collecting yapf\n",
            "  Downloading yapf-0.32.0-py2.py3-none-any.whl (190 kB)\n",
            "\u001b[K     |████████████████████████████████| 190 kB 43.4 MB/s \n",
            "\u001b[?25hRequirement already satisfied: pyparsing!=3.0.5,>=2.0.2 in /usr/local/lib/python3.7/dist-packages (from packaging->mmcv-full<=1.4.0,>=1.3.1->-r /content/TopFormer/requirements/mminstall.txt (line 1)) (3.0.8)\n",
            "Building wheels for collected packages: mmcv-full\n",
            "  Building wheel for mmcv-full (setup.py) ... \u001b[?25l\u001b[?25hdone\n",
            "  Created wheel for mmcv-full: filename=mmcv_full-1.4.0-cp37-cp37m-linux_x86_64.whl size=47804239 sha256=bdd1b63e5fab3ec7936ef28ff1767dddfd21e3dc83852ba317c6a99c71844283\n",
            "  Stored in directory: /root/.cache/pip/wheels/da/1f/2b/6fde1bf3f78c2cf2c64b0c4154e4a354a911557965c483f53f\n",
            "Successfully built mmcv-full\n",
            "Installing collected packages: yapf, addict, mmcv-full\n",
            "Successfully installed addict-2.4.0 mmcv-full-1.4.0 yapf-0.32.0\n",
            "Collecting mmsegmentation\n",
            "  Downloading mmsegmentation-0.23.0-py3-none-any.whl (790 kB)\n",
            "\u001b[K     |████████████████████████████████| 790 kB 5.1 MB/s \n",
            "\u001b[?25hRequirement already satisfied: numpy in /usr/local/lib/python3.7/dist-packages (from mmsegmentation) (1.21.5)\n",
            "Requirement already satisfied: matplotlib in /usr/local/lib/python3.7/dist-packages (from mmsegmentation) (3.2.2)\n",
            "Requirement already satisfied: packaging in /usr/local/lib/python3.7/dist-packages (from mmsegmentation) (21.3)\n",
            "Requirement already satisfied: prettytable in /usr/local/lib/python3.7/dist-packages (from mmsegmentation) (3.2.0)\n",
            "Collecting mmcls>=0.20.1\n",
            "  Downloading mmcls-0.22.1-py2.py3-none-any.whl (548 kB)\n",
            "\u001b[K     |████████████████████████████████| 548 kB 39.4 MB/s \n",
            "\u001b[?25hRequirement already satisfied: python-dateutil>=2.1 in /usr/local/lib/python3.7/dist-packages (from matplotlib->mmsegmentation) (2.8.2)\n",
            "Requirement already satisfied: kiwisolver>=1.0.1 in /usr/local/lib/python3.7/dist-packages (from matplotlib->mmsegmentation) (1.4.2)\n",
            "Requirement already satisfied: pyparsing!=2.0.4,!=2.1.2,!=2.1.6,>=2.0.1 in /usr/local/lib/python3.7/dist-packages (from matplotlib->mmsegmentation) (3.0.8)\n",
            "Requirement already satisfied: cycler>=0.10 in /usr/local/lib/python3.7/dist-packages (from matplotlib->mmsegmentation) (0.11.0)\n",
            "Requirement already satisfied: typing-extensions in /usr/local/lib/python3.7/dist-packages (from kiwisolver>=1.0.1->matplotlib->mmsegmentation) (4.1.1)\n",
            "Requirement already satisfied: six>=1.5 in /usr/local/lib/python3.7/dist-packages (from python-dateutil>=2.1->matplotlib->mmsegmentation) (1.15.0)\n",
            "Requirement already satisfied: wcwidth in /usr/local/lib/python3.7/dist-packages (from prettytable->mmsegmentation) (0.2.5)\n",
            "Requirement already satisfied: importlib-metadata in /usr/local/lib/python3.7/dist-packages (from prettytable->mmsegmentation) (4.11.3)\n",
            "Requirement already satisfied: zipp>=0.5 in /usr/local/lib/python3.7/dist-packages (from importlib-metadata->prettytable->mmsegmentation) (3.8.0)\n",
            "Installing collected packages: mmcls, mmsegmentation\n",
            "Successfully installed mmcls-0.22.1 mmsegmentation-0.23.0\n"
          ]
        }
      ]
    },
    {
      "cell_type": "markdown",
      "source": [
        "## Select the model version"
      ],
      "metadata": {
        "id": "ZFjqrHhi8_Fi"
      }
    },
    {
      "cell_type": "code",
      "source": [
        "import gdown\n",
        "\n",
        "#@title Model name\n",
        "model_name = 'TopFormer-S_512x512_4x8_160k' #@param [\"TopFormer-T_448x448_2x8_160k\", \"TopFormer-T_448x448_4x8_160k\", \"TopFormer-T_512x512_2x8_160k\", \"TopFormer-T_512x512_4x8_160k\",\"TopFormer-S_512x512_2x8_160k\",\"TopFormer-S_512x512_4x8_160k\",\"TopFormer-B_512x512_2x8_160k\",\"TopFormer-B_512x512_4x8_160k\"]\n",
        "\n",
        "#@markdown Input shape (Should be multiple of 64)\n",
        "input_width =  512 #@param {type:\"number\"}\n",
        "input_height = 512 #@param {type:\"number\"}\n",
        "\n",
        "assert input_width%64 == 0 and input_height%64 == 0 , f\"The input shape is not multiple of 64\"\n"
      ],
      "metadata": {
        "id": "m4z3swka9GFu"
      },
      "execution_count": 11,
      "outputs": []
    },
    {
      "cell_type": "markdown",
      "source": [
        "## Download the model"
      ],
      "metadata": {
        "id": "2MHkymPRN5ai"
      }
    },
    {
      "cell_type": "code",
      "source": [
        "#Select the model version\n",
        "model_names = [\"TopFormer-T_448x448_2x8_160k\", \"TopFormer-T_448x448_4x8_160k\", \"TopFormer-T_512x512_2x8_160k\", \"TopFormer-T_512x512_4x8_160k\",\"TopFormer-S_512x512_2x8_160k\",\"TopFormer-S_512x512_4x8_160k\",\"TopFormer-B_512x512_2x8_160k\",\"TopFormer-B_512x512_4x8_160k\"]\n",
        "model_gdrive_ids = [\"1HsdinQHVKGzi8INJy29L48Ho1MmIeCZN\", \"1UW6kmt5oxssxHylGaZg5CByP7xcFrOcF\", \"11mxM2roRD-wXRYjw7YzKQVbQs2jsvYYw\", \"1OnS3_PwjJuNMWCKisreNxw_Lma8uR8bV\", \"16TJLt_lxJ-QvrDmYvhY_6vxRCYpyIN1n\", \"19041fMb4HuDyNhIYdW1r5612FyzpexP0\", \"1pYUUB4N6FVjXt1NKygtQis5WmhGECrNt\", \"1m7CxYKWAyJzl5W3cj1vwsW4DfqAb_rqz\"]\n",
        "model_grdive_dict = dict(zip(model_names, model_gdrive_ids))\n",
        "\n",
        "model_gdrive_id = model_grdive_dict[model_name]\n",
        "\n",
        "!gdown https://drive.google.com/uc?id=\"{model_gdrive_id}\" -O /content/TopFormer/\"{model_name}\".pth"
      ],
      "metadata": {
        "colab": {
          "base_uri": "https://localhost:8080/"
        },
        "id": "iwrNnuKzN7jf",
        "outputId": "5b9ee7c0-4005-4df3-ae87-dd1215f1fdbe"
      },
      "execution_count": 12,
      "outputs": [
        {
          "output_type": "stream",
          "name": "stdout",
          "text": [
            "Downloading...\n",
            "From: https://drive.google.com/uc?id=19041fMb4HuDyNhIYdW1r5612FyzpexP0\n",
            "To: /content/TopFormer/TopFormer-S_512x512_4x8_160k.pth\n",
            "100% 36.9M/36.9M [00:00<00:00, 159MB/s]\n"
          ]
        }
      ]
    },
    {
      "cell_type": "markdown",
      "source": [
        "## Convert the Model to ONNX"
      ],
      "metadata": {
        "id": "HFYj8m-HCRA_"
      }
    },
    {
      "cell_type": "code",
      "source": [
        "config_base_path = \"/content/TopFormer/local_configs/topformer/\"\n",
        "config_names = [\"topformer_tiny_448x448_160k_2x8_ade20k.py\", \"topformer_tiny_448x448_160k_2x8_ade20k.py\", \"topformer_tiny_512x512_160k_2x8_ade20k.py\", \"topformer_tiny_512x512_160k_2x8_ade20k.py\", \"topformer_small_512x512_160k_2x8_ade20k.py\", \"topformer_small_512x512_160k_2x8_ade20k.py\", \"topformer_base_512x512_160k_2x8_ade20k.py\", \"topformer_base_512x512_160k_4x8_ade20k.py\"]\n",
        "config_names_dict = dict(zip(model_names, config_names))\n",
        "\n",
        "config_name = config_names_dict[model_name]\n",
        "config_path = config_base_path + config_name\n",
        "\n",
        "!python3 /content/TopFormer/tools/convert2onnx.py \"{config_path}\" --input-img /content/TopFormer/demo/demo.png --shape \"{input_height}\" \"{input_width}\" --checkpoint /content/TopFormer/\"{model_name}\".pth --output-file /content/TopFormer/\"{model_name}\".onnx"
      ],
      "metadata": {
        "colab": {
          "base_uri": "https://localhost:8080/"
        },
        "id": "tJ1BKM1D-mfD",
        "outputId": "4198d420-0926-407e-ed61-008746248c9b"
      },
      "execution_count": 13,
      "outputs": [
        {
          "output_type": "stream",
          "name": "stdout",
          "text": [
            "No CUDA runtime is found, using CUDA_HOME='/usr/local/cuda'\n",
            "load checkpoint from local path: /content/TopFormer/TopFormer-S_512x512_4x8_160k.pth\n",
            "/content/TopFormer/tools/convert2onnx.py:95: TracerWarning: Converting a tensor to a NumPy array might cause the trace to be incorrect. We can't record the data flow of Python values, so this value will be treated as a constant in the future. This means that the trace might not generalize to other inputs!\n",
            "  shape = [i.cpu().numpy() for i in shape]\n",
            "/usr/local/lib/python3.7/dist-packages/torch/onnx/symbolic_helper.py:382: UserWarning: You are trying to export the model with onnx:Upsample for ONNX opset version 9. This operator might cause results to not match the expected results by PyTorch.\n",
            "ONNX's Upsample/Resize operator did not match Pytorch's Interpolation until opset 11. Attributes to determine how to transform the input were added in onnx:Resize in opset 11 to support Pytorch's behavior (like coordinate_transformation_mode and nearest_mode).\n",
            "We recommend using opset 11 and above for models using this operator.\n",
            "  \"\" + str(_export_onnx_opset_version) + \". \"\n",
            "Successfully exported ONNX model: /content/TopFormer/TopFormer-S_512x512_4x8_160k.onnx\n"
          ]
        }
      ]
    },
    {
      "cell_type": "markdown",
      "source": [
        "# Install OpenVINO"
      ],
      "metadata": {
        "id": "wnHxV-8kIFYt"
      }
    },
    {
      "cell_type": "code",
      "source": [
        "%%time\n",
        "%%capture\n",
        "## install tools. Open Vino takes some time to download: 10-15 min sometimes.\n",
        "!sudo apt-get install -y pciutils cpio\n",
        "!sudo apt autoremove\n",
        "## downnload installation files\n",
        "! wget https://github.com/PINTO0309/tflite2tensorflow/releases/download/v1.20.8/l_openvino_toolkit_p_2021.4.582.tgz\n",
        "path = \"l_openvino_toolkit_p_2021.4.582.tgz\"\n",
        "\n",
        "## install openvino\n",
        "!tar xf \"{path}\"\n",
        "%cd l_openvino_toolkit_p_2021.4.582/\n",
        "\n",
        "!./install_openvino_dependencies.sh && \\\n",
        "    sed -i 's/decline/accept/g' silent.cfg && \\\n",
        "    ./install.sh --silent silent.cfg"
      ],
      "metadata": {
        "colab": {
          "base_uri": "https://localhost:8080/"
        },
        "id": "krxoayKqDexc",
        "outputId": "18033b7f-65e3-4fcf-84ee-f2e83545b212"
      },
      "execution_count": 6,
      "outputs": [
        {
          "output_type": "stream",
          "name": "stdout",
          "text": [
            "CPU times: user 999 ms, sys: 150 ms, total: 1.15 s\n",
            "Wall time: 2min 11s\n"
          ]
        }
      ]
    },
    {
      "cell_type": "code",
      "source": [
        "!bash /opt/intel/openvino_2021/deployment_tools/model_optimizer/install_prerequisites/install_prerequisites.sh"
      ],
      "metadata": {
        "colab": {
          "base_uri": "https://localhost:8080/"
        },
        "id": "x7kKXnnLIcra",
        "outputId": "a16ec176-0ca0-40a5-898f-fc94ba766c62"
      },
      "execution_count": 7,
      "outputs": [
        {
          "output_type": "stream",
          "name": "stdout",
          "text": [
            "\u001b[33m\r0% [Working]\u001b[0m\r            \rHit:1 http://security.ubuntu.com/ubuntu bionic-security InRelease\n",
            "\u001b[33m\r0% [Connecting to archive.ubuntu.com] [Connected to cloud.r-project.org (108.15\u001b[0m\u001b[33m\r0% [1 InRelease gpgv 88.7 kB] [Connecting to archive.ubuntu.com] [Connected to \u001b[0m\r                                                                               \rHit:2 https://cloud.r-project.org/bin/linux/ubuntu bionic-cran40/ InRelease\n",
            "\u001b[33m\r0% [1 InRelease gpgv 88.7 kB] [Connecting to archive.ubuntu.com (185.125.190.36\u001b[0m\r                                                                               \rIgn:3 https://developer.download.nvidia.com/compute/cuda/repos/ubuntu1804/x86_64  InRelease\n",
            "Hit:4 http://ppa.launchpad.net/c2d4u.team/c2d4u4.0+/ubuntu bionic InRelease\n",
            "Ign:5 https://developer.download.nvidia.com/compute/machine-learning/repos/ubuntu1804/x86_64  InRelease\n",
            "Hit:6 https://developer.download.nvidia.com/compute/cuda/repos/ubuntu1804/x86_64  Release\n",
            "Hit:7 https://developer.download.nvidia.com/compute/machine-learning/repos/ubuntu1804/x86_64  Release\n",
            "Hit:8 http://archive.ubuntu.com/ubuntu bionic InRelease\n",
            "Hit:9 http://archive.ubuntu.com/ubuntu bionic-updates InRelease\n",
            "Hit:10 http://ppa.launchpad.net/cran/libgit2/ubuntu bionic InRelease\n",
            "Hit:12 http://archive.ubuntu.com/ubuntu bionic-backports InRelease\n",
            "Hit:14 http://ppa.launchpad.net/deadsnakes/ppa/ubuntu bionic InRelease\n",
            "Hit:15 http://ppa.launchpad.net/graphics-drivers/ppa/ubuntu bionic InRelease\n",
            "Reading package lists... Done\n",
            "Building dependency tree       \n",
            "Reading state information... Done\n",
            "43 packages can be upgraded. Run 'apt list --upgradable' to see them.\n",
            "Reading package lists... Done\n",
            "Building dependency tree       \n",
            "Reading state information... Done\n",
            "python3-pip is already the newest version (9.0.1-2.3~ubuntu1.18.04.5).\n",
            "python3-venv is already the newest version (3.6.7-1~18.04).\n",
            "0 upgraded, 0 newly installed, 0 to remove and 43 not upgraded.\n",
            "Requirement already satisfied: pip in /usr/local/lib/python3.7/dist-packages (21.1.3)\n",
            "Collecting pip\n",
            "  Downloading pip-22.0.4-py3-none-any.whl (2.1 MB)\n",
            "\u001b[K     |████████████████████████████████| 2.1 MB 5.2 MB/s \n",
            "\u001b[?25hInstalling collected packages: pip\n",
            "  Attempting uninstall: pip\n",
            "    Found existing installation: pip 21.1.3\n",
            "    Uninstalling pip-21.1.3:\n",
            "      Successfully uninstalled pip-21.1.3\n",
            "Successfully installed pip-22.0.4\n",
            "Ignoring mxnet: markers 'sys_platform == \"win32\"' don't match your environment\n",
            "Collecting tensorflow~=2.4.1\n",
            "  Downloading tensorflow-2.4.4-cp37-cp37m-manylinux2010_x86_64.whl (394.5 MB)\n",
            "\u001b[2K     \u001b[90m━━━━━━━━━━━━━━━━━━━━━━━━━━━━━━━━━━━━━━━\u001b[0m \u001b[32m394.5/394.5 MB\u001b[0m \u001b[31m2.9 MB/s\u001b[0m eta \u001b[36m0:00:00\u001b[0m\n",
            "\u001b[?25hCollecting mxnet~=1.7.0.post2\n",
            "  Downloading mxnet-1.7.0.post2-py2.py3-none-manylinux2014_x86_64.whl (54.7 MB)\n",
            "\u001b[2K     \u001b[90m━━━━━━━━━━━━━━━━━━━━━━━━━━━━━━━━━━━━━━━━\u001b[0m \u001b[32m54.7/54.7 MB\u001b[0m \u001b[31m7.2 MB/s\u001b[0m eta \u001b[36m0:00:00\u001b[0m\n",
            "\u001b[?25hRequirement already satisfied: networkx~=2.5 in /usr/local/lib/python3.7/dist-packages (from -r /opt/intel/openvino_2021/deployment_tools/model_optimizer/install_prerequisites/../requirements.txt (line 4)) (2.6.3)\n",
            "Collecting numpy<1.20,>=1.16.6\n",
            "  Downloading numpy-1.19.5-cp37-cp37m-manylinux2010_x86_64.whl (14.8 MB)\n",
            "\u001b[2K     \u001b[90m━━━━━━━━━━━━━━━━━━━━━━━━━━━━━━━━━━━━━━━━\u001b[0m \u001b[32m14.8/14.8 MB\u001b[0m \u001b[31m11.2 MB/s\u001b[0m eta \u001b[36m0:00:00\u001b[0m\n",
            "\u001b[?25hRequirement already satisfied: protobuf>=3.15.6 in /usr/local/lib/python3.7/dist-packages (from -r /opt/intel/openvino_2021/deployment_tools/model_optimizer/install_prerequisites/../requirements.txt (line 6)) (3.17.3)\n",
            "Collecting onnx>=1.8.1\n",
            "  Downloading onnx-1.11.0-cp37-cp37m-manylinux_2_12_x86_64.manylinux2010_x86_64.whl (12.8 MB)\n",
            "\u001b[2K     \u001b[90m━━━━━━━━━━━━━━━━━━━━━━━━━━━━━━━━━━━━━━━━\u001b[0m \u001b[32m12.8/12.8 MB\u001b[0m \u001b[31m15.3 MB/s\u001b[0m eta \u001b[36m0:00:00\u001b[0m\n",
            "\u001b[?25hRequirement already satisfied: defusedxml>=0.7.1 in /usr/local/lib/python3.7/dist-packages (from -r /opt/intel/openvino_2021/deployment_tools/model_optimizer/install_prerequisites/../requirements.txt (line 8)) (0.7.1)\n",
            "Collecting urllib3>=1.26.4\n",
            "  Downloading urllib3-1.26.9-py2.py3-none-any.whl (138 kB)\n",
            "\u001b[2K     \u001b[90m━━━━━━━━━━━━━━━━━━━━━━━━━━━━━━━━━━━━━━\u001b[0m \u001b[32m139.0/139.0 KB\u001b[0m \u001b[31m15.8 MB/s\u001b[0m eta \u001b[36m0:00:00\u001b[0m\n",
            "\u001b[?25hCollecting requests>=2.25.1\n",
            "  Downloading requests-2.27.1-py2.py3-none-any.whl (63 kB)\n",
            "\u001b[2K     \u001b[90m━━━━━━━━━━━━━━━━━━━━━━━━━━━━━━━━━━━━━━━━\u001b[0m \u001b[32m63.1/63.1 KB\u001b[0m \u001b[31m7.3 MB/s\u001b[0m eta \u001b[36m0:00:00\u001b[0m\n",
            "\u001b[?25hRequirement already satisfied: google-pasta~=0.2 in /usr/local/lib/python3.7/dist-packages (from tensorflow~=2.4.1->-r /opt/intel/openvino_2021/deployment_tools/model_optimizer/install_prerequisites/../requirements.txt (line 1)) (0.2.0)\n",
            "Collecting grpcio~=1.32.0\n",
            "  Downloading grpcio-1.32.0-cp37-cp37m-manylinux2014_x86_64.whl (3.8 MB)\n",
            "\u001b[2K     \u001b[90m━━━━━━━━━━━━━━━━━━━━━━━━━━━━━━━━━━━━━━━━\u001b[0m \u001b[32m3.8/3.8 MB\u001b[0m \u001b[31m18.1 MB/s\u001b[0m eta \u001b[36m0:00:00\u001b[0m\n",
            "\u001b[?25hRequirement already satisfied: keras-preprocessing~=1.1.2 in /usr/local/lib/python3.7/dist-packages (from tensorflow~=2.4.1->-r /opt/intel/openvino_2021/deployment_tools/model_optimizer/install_prerequisites/../requirements.txt (line 1)) (1.1.2)\n",
            "Requirement already satisfied: tensorboard~=2.4 in /usr/local/lib/python3.7/dist-packages (from tensorflow~=2.4.1->-r /opt/intel/openvino_2021/deployment_tools/model_optimizer/install_prerequisites/../requirements.txt (line 1)) (2.8.0)\n",
            "Collecting absl-py~=0.10\n",
            "  Downloading absl_py-0.15.0-py3-none-any.whl (132 kB)\n",
            "\u001b[2K     \u001b[90m━━━━━━━━━━━━━━━━━━━━━━━━━━━━━━━━━━━━━━\u001b[0m \u001b[32m132.0/132.0 KB\u001b[0m \u001b[31m14.7 MB/s\u001b[0m eta \u001b[36m0:00:00\u001b[0m\n",
            "\u001b[?25hRequirement already satisfied: astunparse~=1.6.3 in /usr/local/lib/python3.7/dist-packages (from tensorflow~=2.4.1->-r /opt/intel/openvino_2021/deployment_tools/model_optimizer/install_prerequisites/../requirements.txt (line 1)) (1.6.3)\n",
            "Requirement already satisfied: opt-einsum~=3.3.0 in /usr/local/lib/python3.7/dist-packages (from tensorflow~=2.4.1->-r /opt/intel/openvino_2021/deployment_tools/model_optimizer/install_prerequisites/../requirements.txt (line 1)) (3.3.0)\n",
            "Collecting h5py~=2.10.0\n",
            "  Downloading h5py-2.10.0-cp37-cp37m-manylinux1_x86_64.whl (2.9 MB)\n",
            "\u001b[2K     \u001b[90m━━━━━━━━━━━━━━━━━━━━━━━━━━━━━━━━━━━━━━━━\u001b[0m \u001b[32m2.9/2.9 MB\u001b[0m \u001b[31m18.9 MB/s\u001b[0m eta \u001b[36m0:00:00\u001b[0m\n",
            "\u001b[?25hRequirement already satisfied: six~=1.15.0 in /usr/local/lib/python3.7/dist-packages (from tensorflow~=2.4.1->-r /opt/intel/openvino_2021/deployment_tools/model_optimizer/install_prerequisites/../requirements.txt (line 1)) (1.15.0)\n",
            "Requirement already satisfied: wheel~=0.35 in /usr/local/lib/python3.7/dist-packages (from tensorflow~=2.4.1->-r /opt/intel/openvino_2021/deployment_tools/model_optimizer/install_prerequisites/../requirements.txt (line 1)) (0.37.1)\n",
            "Requirement already satisfied: termcolor~=1.1.0 in /usr/local/lib/python3.7/dist-packages (from tensorflow~=2.4.1->-r /opt/intel/openvino_2021/deployment_tools/model_optimizer/install_prerequisites/../requirements.txt (line 1)) (1.1.0)\n",
            "Collecting flatbuffers~=1.12.0\n",
            "  Downloading flatbuffers-1.12-py2.py3-none-any.whl (15 kB)\n",
            "Collecting wrapt~=1.12.1\n",
            "  Downloading wrapt-1.12.1.tar.gz (27 kB)\n",
            "  Preparing metadata (setup.py) ... \u001b[?25l\u001b[?25hdone\n",
            "Collecting typing-extensions~=3.7.4\n",
            "  Downloading typing_extensions-3.7.4.3-py3-none-any.whl (22 kB)\n",
            "Collecting gast==0.3.3\n",
            "  Downloading gast-0.3.3-py2.py3-none-any.whl (9.7 kB)\n",
            "Collecting tensorflow-estimator<2.5.0,>=2.4.0\n",
            "  Downloading tensorflow_estimator-2.4.0-py2.py3-none-any.whl (462 kB)\n",
            "\u001b[2K     \u001b[90m━━━━━━━━━━━━━━━━━━━━━━━━━━━━━━━━━━━━━━\u001b[0m \u001b[32m462.0/462.0 KB\u001b[0m \u001b[31m18.5 MB/s\u001b[0m eta \u001b[36m0:00:00\u001b[0m\n",
            "\u001b[?25hCollecting graphviz<0.9.0,>=0.8.1\n",
            "  Downloading graphviz-0.8.4-py2.py3-none-any.whl (16 kB)\n",
            "Requirement already satisfied: charset-normalizer~=2.0.0 in /usr/local/lib/python3.7/dist-packages (from requests>=2.25.1->-r /opt/intel/openvino_2021/deployment_tools/model_optimizer/install_prerequisites/../requirements.txt (line 10)) (2.0.12)\n",
            "Requirement already satisfied: certifi>=2017.4.17 in /usr/local/lib/python3.7/dist-packages (from requests>=2.25.1->-r /opt/intel/openvino_2021/deployment_tools/model_optimizer/install_prerequisites/../requirements.txt (line 10)) (2021.10.8)\n",
            "Requirement already satisfied: idna<4,>=2.5 in /usr/local/lib/python3.7/dist-packages (from requests>=2.25.1->-r /opt/intel/openvino_2021/deployment_tools/model_optimizer/install_prerequisites/../requirements.txt (line 10)) (2.10)\n",
            "Requirement already satisfied: markdown>=2.6.8 in /usr/local/lib/python3.7/dist-packages (from tensorboard~=2.4->tensorflow~=2.4.1->-r /opt/intel/openvino_2021/deployment_tools/model_optimizer/install_prerequisites/../requirements.txt (line 1)) (3.3.6)\n",
            "Requirement already satisfied: werkzeug>=0.11.15 in /usr/local/lib/python3.7/dist-packages (from tensorboard~=2.4->tensorflow~=2.4.1->-r /opt/intel/openvino_2021/deployment_tools/model_optimizer/install_prerequisites/../requirements.txt (line 1)) (1.0.1)\n",
            "Requirement already satisfied: google-auth-oauthlib<0.5,>=0.4.1 in /usr/local/lib/python3.7/dist-packages (from tensorboard~=2.4->tensorflow~=2.4.1->-r /opt/intel/openvino_2021/deployment_tools/model_optimizer/install_prerequisites/../requirements.txt (line 1)) (0.4.6)\n",
            "Requirement already satisfied: tensorboard-plugin-wit>=1.6.0 in /usr/local/lib/python3.7/dist-packages (from tensorboard~=2.4->tensorflow~=2.4.1->-r /opt/intel/openvino_2021/deployment_tools/model_optimizer/install_prerequisites/../requirements.txt (line 1)) (1.8.1)\n",
            "Requirement already satisfied: setuptools>=41.0.0 in /usr/local/lib/python3.7/dist-packages (from tensorboard~=2.4->tensorflow~=2.4.1->-r /opt/intel/openvino_2021/deployment_tools/model_optimizer/install_prerequisites/../requirements.txt (line 1)) (57.4.0)\n",
            "Requirement already satisfied: google-auth<3,>=1.6.3 in /usr/local/lib/python3.7/dist-packages (from tensorboard~=2.4->tensorflow~=2.4.1->-r /opt/intel/openvino_2021/deployment_tools/model_optimizer/install_prerequisites/../requirements.txt (line 1)) (1.35.0)\n",
            "Requirement already satisfied: tensorboard-data-server<0.7.0,>=0.6.0 in /usr/local/lib/python3.7/dist-packages (from tensorboard~=2.4->tensorflow~=2.4.1->-r /opt/intel/openvino_2021/deployment_tools/model_optimizer/install_prerequisites/../requirements.txt (line 1)) (0.6.1)\n",
            "Requirement already satisfied: rsa<5,>=3.1.4 in /usr/local/lib/python3.7/dist-packages (from google-auth<3,>=1.6.3->tensorboard~=2.4->tensorflow~=2.4.1->-r /opt/intel/openvino_2021/deployment_tools/model_optimizer/install_prerequisites/../requirements.txt (line 1)) (4.8)\n",
            "Requirement already satisfied: pyasn1-modules>=0.2.1 in /usr/local/lib/python3.7/dist-packages (from google-auth<3,>=1.6.3->tensorboard~=2.4->tensorflow~=2.4.1->-r /opt/intel/openvino_2021/deployment_tools/model_optimizer/install_prerequisites/../requirements.txt (line 1)) (0.2.8)\n",
            "Requirement already satisfied: cachetools<5.0,>=2.0.0 in /usr/local/lib/python3.7/dist-packages (from google-auth<3,>=1.6.3->tensorboard~=2.4->tensorflow~=2.4.1->-r /opt/intel/openvino_2021/deployment_tools/model_optimizer/install_prerequisites/../requirements.txt (line 1)) (4.2.4)\n",
            "Requirement already satisfied: requests-oauthlib>=0.7.0 in /usr/local/lib/python3.7/dist-packages (from google-auth-oauthlib<0.5,>=0.4.1->tensorboard~=2.4->tensorflow~=2.4.1->-r /opt/intel/openvino_2021/deployment_tools/model_optimizer/install_prerequisites/../requirements.txt (line 1)) (1.3.1)\n",
            "Requirement already satisfied: importlib-metadata>=4.4 in /usr/local/lib/python3.7/dist-packages (from markdown>=2.6.8->tensorboard~=2.4->tensorflow~=2.4.1->-r /opt/intel/openvino_2021/deployment_tools/model_optimizer/install_prerequisites/../requirements.txt (line 1)) (4.11.3)\n",
            "Requirement already satisfied: zipp>=0.5 in /usr/local/lib/python3.7/dist-packages (from importlib-metadata>=4.4->markdown>=2.6.8->tensorboard~=2.4->tensorflow~=2.4.1->-r /opt/intel/openvino_2021/deployment_tools/model_optimizer/install_prerequisites/../requirements.txt (line 1)) (3.8.0)\n",
            "Requirement already satisfied: pyasn1<0.5.0,>=0.4.6 in /usr/local/lib/python3.7/dist-packages (from pyasn1-modules>=0.2.1->google-auth<3,>=1.6.3->tensorboard~=2.4->tensorflow~=2.4.1->-r /opt/intel/openvino_2021/deployment_tools/model_optimizer/install_prerequisites/../requirements.txt (line 1)) (0.4.8)\n",
            "Requirement already satisfied: oauthlib>=3.0.0 in /usr/local/lib/python3.7/dist-packages (from requests-oauthlib>=0.7.0->google-auth-oauthlib<0.5,>=0.4.1->tensorboard~=2.4->tensorflow~=2.4.1->-r /opt/intel/openvino_2021/deployment_tools/model_optimizer/install_prerequisites/../requirements.txt (line 1)) (3.2.0)\n",
            "Building wheels for collected packages: wrapt\n",
            "  Building wheel for wrapt (setup.py) ... \u001b[?25l\u001b[?25hdone\n",
            "  Created wheel for wrapt: filename=wrapt-1.12.1-cp37-cp37m-linux_x86_64.whl size=68714 sha256=dafba50084388ff4ba17fac76c666abd717fa7d4b7ad9c43128de52393c7a0c2\n",
            "  Stored in directory: /root/.cache/pip/wheels/62/76/4c/aa25851149f3f6d9785f6c869387ad82b3fd37582fa8147ac6\n",
            "Successfully built wrapt\n",
            "Installing collected packages: wrapt, typing-extensions, tensorflow-estimator, flatbuffers, urllib3, numpy, grpcio, graphviz, gast, absl-py, requests, onnx, h5py, mxnet, tensorflow\n",
            "  Attempting uninstall: wrapt\n",
            "    Found existing installation: wrapt 1.14.0\n",
            "    Uninstalling wrapt-1.14.0:\n",
            "      Successfully uninstalled wrapt-1.14.0\n",
            "  Attempting uninstall: typing-extensions\n",
            "    Found existing installation: typing_extensions 4.1.1\n",
            "    Uninstalling typing_extensions-4.1.1:\n",
            "      Successfully uninstalled typing_extensions-4.1.1\n",
            "  Attempting uninstall: tensorflow-estimator\n",
            "    Found existing installation: tensorflow-estimator 2.8.0\n",
            "    Uninstalling tensorflow-estimator-2.8.0:\n",
            "      Successfully uninstalled tensorflow-estimator-2.8.0\n",
            "  Attempting uninstall: flatbuffers\n",
            "    Found existing installation: flatbuffers 2.0\n",
            "    Uninstalling flatbuffers-2.0:\n",
            "      Successfully uninstalled flatbuffers-2.0\n",
            "  Attempting uninstall: urllib3\n",
            "    Found existing installation: urllib3 1.24.3\n",
            "    Uninstalling urllib3-1.24.3:\n",
            "      Successfully uninstalled urllib3-1.24.3\n",
            "  Attempting uninstall: numpy\n",
            "    Found existing installation: numpy 1.21.5\n",
            "    Uninstalling numpy-1.21.5:\n",
            "      Successfully uninstalled numpy-1.21.5\n",
            "  Attempting uninstall: grpcio\n",
            "    Found existing installation: grpcio 1.44.0\n",
            "    Uninstalling grpcio-1.44.0:\n",
            "      Successfully uninstalled grpcio-1.44.0\n",
            "  Attempting uninstall: graphviz\n",
            "    Found existing installation: graphviz 0.10.1\n",
            "    Uninstalling graphviz-0.10.1:\n",
            "      Successfully uninstalled graphviz-0.10.1\n",
            "  Attempting uninstall: gast\n",
            "    Found existing installation: gast 0.5.3\n",
            "    Uninstalling gast-0.5.3:\n",
            "      Successfully uninstalled gast-0.5.3\n",
            "  Attempting uninstall: absl-py\n",
            "    Found existing installation: absl-py 1.0.0\n",
            "    Uninstalling absl-py-1.0.0:\n",
            "      Successfully uninstalled absl-py-1.0.0\n",
            "  Attempting uninstall: requests\n",
            "    Found existing installation: requests 2.23.0\n",
            "    Uninstalling requests-2.23.0:\n",
            "      Successfully uninstalled requests-2.23.0\n",
            "  Attempting uninstall: h5py\n",
            "    Found existing installation: h5py 3.1.0\n",
            "    Uninstalling h5py-3.1.0:\n",
            "      Successfully uninstalled h5py-3.1.0\n",
            "  Attempting uninstall: tensorflow\n",
            "    Found existing installation: tensorflow 2.8.0\n",
            "    Uninstalling tensorflow-2.8.0:\n",
            "      Successfully uninstalled tensorflow-2.8.0\n",
            "\u001b[31mERROR: pip's dependency resolver does not currently take into account all the packages that are installed. This behaviour is the source of the following dependency conflicts.\n",
            "google-colab 1.0.0 requires requests~=2.23.0, but you have requests 2.27.1 which is incompatible.\n",
            "datascience 0.10.6 requires folium==0.2.1, but you have folium 0.8.3 which is incompatible.\n",
            "albumentations 0.1.12 requires imgaug<0.2.7,>=0.2.5, but you have imgaug 0.2.9 which is incompatible.\u001b[0m\u001b[31m\n",
            "\u001b[0mSuccessfully installed absl-py-0.15.0 flatbuffers-1.12 gast-0.3.3 graphviz-0.8.4 grpcio-1.32.0 h5py-2.10.0 mxnet-1.7.0.post2 numpy-1.19.5 onnx-1.11.0 requests-2.27.1 tensorflow-2.4.4 tensorflow-estimator-2.4.0 typing-extensions-3.7.4.3 urllib3-1.26.9 wrapt-1.12.1\n",
            "\u001b[33mWARNING: Running pip as the 'root' user can result in broken permissions and conflicting behaviour with the system package manager. It is recommended to use a virtual environment instead: https://pip.pypa.io/warnings/venv\u001b[0m\u001b[33m\n",
            "\u001b[0m\t- Inference Engine found in: \t/opt/intel/openvino_2021.4.582/python/python3.7/openvino\n",
            "Inference Engine version: \t2021.4.0-3839-cd81789d294-releases/2021/4\n",
            "Model Optimizer version: \t2021.4.0-3839-cd81789d294-releases/2021/4\n",
            "[WARNING] All Model Optimizer dependencies are installed globally.\n",
            "[WARNING] If you want to keep Model Optimizer in separate sandbox\n",
            "[WARNING] run install_prerequisites.sh \"{caffe|tf|tf2|mxnet|kaldi|onnx}\" venv\n"
          ]
        }
      ]
    },
    {
      "cell_type": "markdown",
      "source": [
        "## Convert to OpenVINO"
      ],
      "metadata": {
        "id": "JASlePBsJATE"
      }
    },
    {
      "cell_type": "code",
      "source": [
        "! source /opt/intel/openvino_2021/bin/setupvars.sh\n",
        "! python /opt/intel/openvino_2021/deployment_tools/model_optimizer/mo.py \\\n",
        "--input_model  /content/TopFormer/\"{model_name}\".onnx \\\n",
        "--model_name topformer \\\n",
        "--data_type FP16 \\\n",
        "--output_dir /content/TopFormer/openvino/ \\\n",
        "--input_shape [1,3,\"{input_height}\",\"{input_width}\"] \\\n",
        "--mean_values=\"[123.675, 116.28 , 103.53]\" \\\n",
        "--scale_values=\"[58.395, 57.12 , 57.375]\""
      ],
      "metadata": {
        "colab": {
          "base_uri": "https://localhost:8080/"
        },
        "id": "A65RKT_tJC2K",
        "outputId": "baaeb7fa-ad9b-4c8f-86f8-5cc6114130e4"
      },
      "execution_count": 14,
      "outputs": [
        {
          "output_type": "stream",
          "name": "stdout",
          "text": [
            "[setupvars.sh] OpenVINO environment initialized\n",
            "Model Optimizer arguments:\n",
            "Common parameters:\n",
            "\t- Path to the Input Model: \t/content/TopFormer/TopFormer-S_512x512_4x8_160k.onnx\n",
            "\t- Path for generated IR: \t/content/TopFormer/openvino/\n",
            "\t- IR output name: \ttopformer\n",
            "\t- Log level: \tERROR\n",
            "\t- Batch: \tNot specified, inherited from the model\n",
            "\t- Input layers: \tNot specified, inherited from the model\n",
            "\t- Output layers: \tNot specified, inherited from the model\n",
            "\t- Input shapes: \t[1,3,512,512]\n",
            "\t- Mean values: \t[123.675, 116.28 , 103.53]\n",
            "\t- Scale values: \t[58.395, 57.12 , 57.375]\n",
            "\t- Scale factor: \tNot specified\n",
            "\t- Precision of IR: \tFP16\n",
            "\t- Enable fusing: \tTrue\n",
            "\t- Enable grouped convolutions fusing: \tTrue\n",
            "\t- Move mean values to preprocess section: \tNone\n",
            "\t- Reverse input channels: \tFalse\n",
            "ONNX specific parameters:\n",
            "\t- Inference Engine found in: \t/opt/intel/openvino_2021.4.582/python/python3.7/openvino\n",
            "Inference Engine version: \t2021.4.0-3839-cd81789d294-releases/2021/4\n",
            "Model Optimizer version: \t2021.4.0-3839-cd81789d294-releases/2021/4\n",
            "[ WARNING ]  Const node 'Upsample_182/Add' returns shape values of 'float64' type but it must be integer or float32. During Elementwise type inference will attempt to cast to float32\n",
            "[ WARNING ]  Const node 'Upsample_185/Add' returns shape values of 'float64' type but it must be integer or float32. During Elementwise type inference will attempt to cast to float32\n",
            "[ WARNING ]  Const node 'Upsample_172/Add' returns shape values of 'float64' type but it must be integer or float32. During Elementwise type inference will attempt to cast to float32\n",
            "[ WARNING ]  Const node 'Upsample_205/Add' returns shape values of 'float64' type but it must be integer or float32. During Elementwise type inference will attempt to cast to float32\n",
            "[ WARNING ]  Const node 'Upsample_198/Add' returns shape values of 'float64' type but it must be integer or float32. During Elementwise type inference will attempt to cast to float32\n",
            "[ WARNING ]  Const node 'Upsample_195/Add' returns shape values of 'float64' type but it must be integer or float32. During Elementwise type inference will attempt to cast to float32\n",
            "[ WARNING ]  Const node 'Upsample_202/Add' returns shape values of 'float64' type but it must be integer or float32. During Elementwise type inference will attempt to cast to float32\n",
            "[ WARNING ]  Const node 'Upsample_169/Add' returns shape values of 'float64' type but it must be integer or float32. During Elementwise type inference will attempt to cast to float32\n",
            "[ WARNING ]  Changing Const node 'Upsample_172/Add' data type from float16 to <class 'numpy.float32'> for Elementwise operation\n",
            "[ WARNING ]  Changing Const node 'Upsample_185/Add' data type from float16 to <class 'numpy.float32'> for Elementwise operation\n",
            "[ WARNING ]  Changing Const node 'Upsample_198/Add' data type from float16 to <class 'numpy.float32'> for Elementwise operation\n",
            "[ WARNING ]  Changing Const node 'Upsample_169/Add' data type from float16 to <class 'numpy.float32'> for Elementwise operation\n",
            "[ WARNING ]  Changing Const node 'Upsample_182/Add' data type from float16 to <class 'numpy.float32'> for Elementwise operation\n",
            "[ WARNING ]  Changing Const node 'Upsample_195/Add' data type from float16 to <class 'numpy.float32'> for Elementwise operation\n",
            "[ WARNING ]  Changing Const node 'Upsample_202/Add' data type from float16 to <class 'numpy.float32'> for Elementwise operation\n",
            "[ WARNING ]  Changing Const node 'Upsample_205/Add' data type from float16 to <class 'numpy.float32'> for Elementwise operation\n",
            "[ SUCCESS ] Generated IR version 10 model.\n",
            "[ SUCCESS ] XML file: /content/TopFormer/openvino/topformer.xml\n",
            "[ SUCCESS ] BIN file: /content/TopFormer/openvino/topformer.bin\n",
            "[ SUCCESS ] Total execution time: 29.52 seconds. \n",
            "[ SUCCESS ] Memory consumed: 135 MB. \n",
            "It's been a while, check for a new version of Intel(R) Distribution of OpenVINO(TM) toolkit here https://software.intel.com/content/www/us/en/develop/tools/openvino-toolkit/download.html?cid=other&source=prod&campid=ww_2021_bu_IOTG_OpenVINO-2021-4-LTS&content=upg_all&medium=organic or on the GitHub*\n"
          ]
        }
      ]
    },
    {
      "cell_type": "markdown",
      "source": [
        "# Convert to MyriadX "
      ],
      "metadata": {
        "id": "qXWKZ7xWJqnR"
      }
    },
    {
      "cell_type": "markdown",
      "source": [
        "You might need to **run it twice** if you get urllib3 error"
      ],
      "metadata": {
        "id": "ENefgF7lBUC0"
      }
    },
    {
      "cell_type": "code",
      "source": [
        "# Choose the directory where you would like to save the blob.\n",
        "blob_dir = \"/content/TopFormer\"\n",
        "\n",
        "binfile = f\"/content/TopFormer/openvino/topformer.bin\"\n",
        "xmlfile = f\"/content/TopFormer/openvino/topformer.xml\"\n",
        "\n",
        "# Remove any cached models \n",
        "!rm /root/.cache/blobconverter/*.blob\n",
        "\n",
        "!pip install blobconverter\n",
        "try:\n",
        "  import blobconverter\n",
        "  blob_path = blobconverter.from_openvino(\n",
        "      xml=xmlfile,\n",
        "      bin=binfile,\n",
        "      data_type=\"FP16\",\n",
        "      shaves=6,\n",
        "      version=\"2021.4\"\n",
        "  )\n",
        "  from google.colab import files\n",
        "  files.download(blob_path)\n",
        "except Exception as e:\n",
        "\n",
        "  !pip install urllib3==1.26.9 \n",
        "  print('Stopping RUNTIME! Please run this cell again.')\n",
        "  print(e)\n",
        "  import os\n",
        "  os.kill(os.getpid(), 9)"
      ],
      "metadata": {
        "colab": {
          "base_uri": "https://localhost:8080/",
          "height": 332
        },
        "id": "Z9hAaMTQJtE2",
        "outputId": "e7e07567-dd21-46c1-bce2-cd63d05980ca"
      },
      "execution_count": 15,
      "outputs": [
        {
          "output_type": "stream",
          "name": "stdout",
          "text": [
            "Requirement already satisfied: blobconverter in /usr/local/lib/python3.7/dist-packages (1.2.9)\n",
            "Requirement already satisfied: requests in /usr/local/lib/python3.7/dist-packages (from blobconverter) (2.27.1)\n",
            "Requirement already satisfied: PyYAML in /usr/local/lib/python3.7/dist-packages (from blobconverter) (3.13)\n",
            "Requirement already satisfied: boto3 in /usr/local/lib/python3.7/dist-packages (from blobconverter) (1.21.42)\n",
            "Requirement already satisfied: s3transfer<0.6.0,>=0.5.0 in /usr/local/lib/python3.7/dist-packages (from boto3->blobconverter) (0.5.2)\n",
            "Requirement already satisfied: jmespath<2.0.0,>=0.7.1 in /usr/local/lib/python3.7/dist-packages (from boto3->blobconverter) (1.0.0)\n",
            "Requirement already satisfied: botocore<1.25.0,>=1.24.42 in /usr/local/lib/python3.7/dist-packages (from boto3->blobconverter) (1.24.42)\n",
            "Requirement already satisfied: certifi>=2017.4.17 in /usr/local/lib/python3.7/dist-packages (from requests->blobconverter) (2021.10.8)\n",
            "Requirement already satisfied: charset-normalizer~=2.0.0 in /usr/local/lib/python3.7/dist-packages (from requests->blobconverter) (2.0.12)\n",
            "Requirement already satisfied: urllib3<1.27,>=1.21.1 in /usr/local/lib/python3.7/dist-packages (from requests->blobconverter) (1.26.9)\n",
            "Requirement already satisfied: idna<4,>=2.5 in /usr/local/lib/python3.7/dist-packages (from requests->blobconverter) (2.10)\n",
            "Requirement already satisfied: python-dateutil<3.0.0,>=2.1 in /usr/local/lib/python3.7/dist-packages (from botocore<1.25.0,>=1.24.42->boto3->blobconverter) (2.8.2)\n",
            "Requirement already satisfied: six>=1.5 in /usr/local/lib/python3.7/dist-packages (from python-dateutil<3.0.0,>=2.1->botocore<1.25.0,>=1.24.42->boto3->blobconverter) (1.15.0)\n",
            "\u001b[33mWARNING: Running pip as the 'root' user can result in broken permissions and conflicting behaviour with the system package manager. It is recommended to use a virtual environment instead: https://pip.pypa.io/warnings/venv\u001b[0m\u001b[33m\n",
            "\u001b[0mDownloading /root/.cache/blobconverter/topformer_openvino_2021.4_6shave.blob...\n",
            "[==================================================]\n",
            "Done\n"
          ]
        },
        {
          "output_type": "display_data",
          "data": {
            "text/plain": [
              "<IPython.core.display.Javascript object>"
            ],
            "application/javascript": [
              "\n",
              "    async function download(id, filename, size) {\n",
              "      if (!google.colab.kernel.accessAllowed) {\n",
              "        return;\n",
              "      }\n",
              "      const div = document.createElement('div');\n",
              "      const label = document.createElement('label');\n",
              "      label.textContent = `Downloading \"${filename}\": `;\n",
              "      div.appendChild(label);\n",
              "      const progress = document.createElement('progress');\n",
              "      progress.max = size;\n",
              "      div.appendChild(progress);\n",
              "      document.body.appendChild(div);\n",
              "\n",
              "      const buffers = [];\n",
              "      let downloaded = 0;\n",
              "\n",
              "      const channel = await google.colab.kernel.comms.open(id);\n",
              "      // Send a message to notify the kernel that we're ready.\n",
              "      channel.send({})\n",
              "\n",
              "      for await (const message of channel.messages) {\n",
              "        // Send a message to notify the kernel that we're ready.\n",
              "        channel.send({})\n",
              "        if (message.buffers) {\n",
              "          for (const buffer of message.buffers) {\n",
              "            buffers.push(buffer);\n",
              "            downloaded += buffer.byteLength;\n",
              "            progress.value = downloaded;\n",
              "          }\n",
              "        }\n",
              "      }\n",
              "      const blob = new Blob(buffers, {type: 'application/binary'});\n",
              "      const a = document.createElement('a');\n",
              "      a.href = window.URL.createObjectURL(blob);\n",
              "      a.download = filename;\n",
              "      div.appendChild(a);\n",
              "      a.click();\n",
              "      div.remove();\n",
              "    }\n",
              "  "
            ]
          },
          "metadata": {}
        },
        {
          "output_type": "display_data",
          "data": {
            "text/plain": [
              "<IPython.core.display.Javascript object>"
            ],
            "application/javascript": [
              "download(\"download_919d7c56-8206-4d49-9a06-41f78dfb0c8c\", \"topformer_openvino_2021.4_6shave.blob\", 9475904)"
            ]
          },
          "metadata": {}
        }
      ]
    }
  ]
}